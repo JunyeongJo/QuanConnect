{
 "cells": [
  {
   "cell_type": "code",
   "execution_count": null,
   "id": "a24fe054",
   "metadata": {},
   "outputs": [],
   "source": [
    "# Simple Algorithm to stop loss\n",
    "\n",
    "\n",
    "# region imports\n",
    "from AlgorithmImports import *\n",
    "# endregion\n",
    "\n",
    "class stoplossAlgorithm(QCAlgorithm):\n",
    "\n",
    "    def Initialize(self):\n",
    "        self.SetStartDate(2020, 1, 1)\n",
    "        self.SetStartDate(2021, 1, 1)\n",
    "        self.SetCash(100000)\n",
    "        self.tsla =  self.AddEquity(\"TSLA\", Resolution.Daily)\n",
    "        self.crox = self.AddEquity(\"CROX\", Resolution.Daily)\n",
    "\n",
    "        self.invest = True\n",
    "        self.order_toggle = True\n",
    "\n",
    "    def OnData(self, data: Slice):\n",
    "        if not self.Portfolio.Invested and self.invest:\n",
    "            self.SetHoldings(\"TSLA\", 0.5)\n",
    "            self.SetHoldings(\"CROX\", 0.5)\n",
    "            self.invest = False\n",
    "\n",
    "        if self.Portfolio.Invested and self.order_toggle:\n",
    "            # get quantity and price of stock\n",
    "            tsla_shares = self.Portfolio[self.tsla.Symbol].Quantity\n",
    "            tsla_price = self.Portfolio[self.tsla.Symbol].Price\n",
    "            crox_shares = self.Portfolio[self.crox.Symbol].Quantity\n",
    "            crox_price = self.Portfolio[self.crox.Symbol].Price\n",
    "\n",
    "            # sell if stock drops by 20% or more from the original price\n",
    "            self.StopMarketOrder(self.tsla.Symbol, -tsla_shares, tsla_price*0.8)\n",
    "\n",
    "            self.StopMarketOrder(self.crox.Symbol, -crox_shares, crox_price*0.8)\n",
    "            self.order_toggle = False"
   ]
  }
 ],
 "metadata": {
  "kernelspec": {
   "display_name": "Python 3 (ipykernel)",
   "language": "python",
   "name": "python3"
  },
  "language_info": {
   "codemirror_mode": {
    "name": "ipython",
    "version": 3
   },
   "file_extension": ".py",
   "mimetype": "text/x-python",
   "name": "python",
   "nbconvert_exporter": "python",
   "pygments_lexer": "ipython3",
   "version": "3.9.13"
  }
 },
 "nbformat": 4,
 "nbformat_minor": 5
}
