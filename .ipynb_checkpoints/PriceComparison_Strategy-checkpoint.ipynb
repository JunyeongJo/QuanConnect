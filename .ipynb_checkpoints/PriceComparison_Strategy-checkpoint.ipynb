{
 "cells": [
  {
   "cell_type": "code",
   "execution_count": null,
   "id": "c97b51ec",
   "metadata": {},
   "outputs": [],
   "source": [
    "# region imports\n",
    "from AlgorithmImports import *\n",
    "# endregion\n",
    "\n",
    "class PriceComparison(QCAlgorithm):\n",
    "\n",
    "    def Initialize(self):\n",
    "        self.SetStartDate(2018, 1, 1)  # We want to invest on the first January 2010\n",
    "        self.SetEndDate(2020, 1, 1)\n",
    "        self.SetCash(10000)  #  10,000$ are available\n",
    "        \n",
    "        self.vnq = self.AddEquity(\"VNQ\", Resolution.Daily)\n",
    "        self.vnqi = self.AddEquity(\"VNQI\", Resolution.Daily)\n",
    "\n",
    "    def OnData(self, data):\n",
    "        \n",
    "        # Compute percent price difference between VNQI and VNQ\n",
    "        vnqi_pop = (self.vnqi.Close - self.vnqi.Open)/self.vnqi.Open\n",
    "        vnq_pop = (self.vnq.Close - self.vnq.Open)/self.vnq.Open\n",
    "        \n",
    "        # IF DAILY OPEN PRICE OF VNQI is 2% greater than VNQ, set holdings to VNQ\n",
    "        if  vnqi_pop > 0.02 and vnqi_pop>vnq_pop:   \n",
    "            self.SetHoldings(\"VNQ\", 1,True)\n",
    "            self.Log(f'VNQI POP: {vnqi_pop}')\n",
    "        \n",
    "        # IF DAILY OPEN PRICE OF VNQI is 2% less than VNQ, set holdings to VNQI\n",
    "        if  vnq_pop > 0.02 and vnq_pop>vnqi_pop:   \n",
    "            self.SetHoldings(\"VNQI\", 1,True)\n",
    "            self.Log(f'VNQ POP: {vnq_pop}')\n",
    "            \n",
    "        else:\n",
    "            self.Log('No Action Taken Today')\n",
    "             \n",
    "            return"
   ]
  }
 ],
 "metadata": {
  "kernelspec": {
   "display_name": "Python 3 (ipykernel)",
   "language": "python",
   "name": "python3"
  },
  "language_info": {
   "codemirror_mode": {
    "name": "ipython",
    "version": 3
   },
   "file_extension": ".py",
   "mimetype": "text/x-python",
   "name": "python",
   "nbconvert_exporter": "python",
   "pygments_lexer": "ipython3",
   "version": "3.9.13"
  }
 },
 "nbformat": 4,
 "nbformat_minor": 5
}
