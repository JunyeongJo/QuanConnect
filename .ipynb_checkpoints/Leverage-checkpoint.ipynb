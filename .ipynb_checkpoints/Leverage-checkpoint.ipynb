{
 "cells": [
  {
   "cell_type": "code",
   "execution_count": null,
   "id": "5e59d6b5",
   "metadata": {},
   "outputs": [],
   "source": [
    "# A simple algorith to buy SPY with 3x leverage.\n",
    "\n",
    "\n",
    "# region imports\n",
    "from AlgorithmImports import *\n",
    "# endregion\n",
    "\n",
    "class Leverage(QCAlgorithm):\n",
    "\n",
    "    def Initialize(self):\n",
    "        self.SetStartDate(2019, 1, 1)\n",
    "        self.SetEndDate(2020, 1, 1)\n",
    "\n",
    "        self.SetCash(100000)\n",
    "        self.spy = self.AddEquity(\"SPY\", Resolution.Daily)\n",
    "      \n",
    "        self.spy.SetLeverage(3)\n",
    "\n",
    "    def OnData(self, data: Slice):\n",
    "        if not self.Portfolio.Invested:\n",
    "            self.SetHoldings(\"SPY\", 3)\n"
   ]
  }
 ],
 "metadata": {
  "kernelspec": {
   "display_name": "Python 3 (ipykernel)",
   "language": "python",
   "name": "python3"
  },
  "language_info": {
   "codemirror_mode": {
    "name": "ipython",
    "version": 3
   },
   "file_extension": ".py",
   "mimetype": "text/x-python",
   "name": "python",
   "nbconvert_exporter": "python",
   "pygments_lexer": "ipython3",
   "version": "3.9.13"
  }
 },
 "nbformat": 4,
 "nbformat_minor": 5
}
