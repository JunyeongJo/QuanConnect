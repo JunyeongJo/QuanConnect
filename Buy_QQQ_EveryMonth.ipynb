{
 "cells": [
  {
   "cell_type": "code",
   "execution_count": null,
   "id": "7d7284c4",
   "metadata": {},
   "outputs": [],
   "source": [
    "#An algorithm to purchase QQQ at the beginning of each month as soon as the market opens.\n",
    "\n",
    "# region imports\n",
    "from AlgorithmImports import *\n",
    "# endregion\n",
    "\n",
    "class CasualRedOrangeEagle(QCAlgorithm):\n",
    "\n",
    "    def Initialize(self):\n",
    "        self.SetStartDate(2019, 1,1)\n",
    "        self.SetEndDate(2021, 1,1)\n",
    "\n",
    "        self.SetCash(100000)\n",
    "        self.qqq =  self.AddEquity(\"QQQ\", Resolution.Daily)\n",
    "\n",
    "\n",
    "        self.Schedule.On(self.DateRules.MonthStart(), self.TimeRules.At(9,30), self.Buy)\n",
    "\n",
    "        self.monthly_buy = 1000\n",
    "        self.cash_reserve = 2000\n",
    "    def Buy(self):\n",
    "\n",
    "        # qqq stock once a month\n",
    "\n",
    "        # Cash vs tqqq Price Open\n",
    "        if self.Portfolio.Cash < self.qqq.Open:\n",
    "            self.Debug('Not enough cash!')\n",
    "            return\n",
    "\n",
    "        # LIMIT 1000/month\n",
    "        # Limit vs qqq\n",
    "        # cash_reserve \n",
    "        elif self.qqq.Open > self.cash_reserve:\n",
    "            self.cash_reserve += self.monthly_buy\n",
    "            self.Log(\"not affordable\")\n",
    "            return\n",
    "\n",
    "        shares_to_buy = int(self.cash_reserve/self.qqq.Open)\n",
    "        self.Log(f\"Buying shares: {shares_to_buy}\")\n",
    "        self.MarketOrder(self.qqq.Symbol, shares_to_buy)\n",
    "        self.cash_reserve = self.monthly_buy\n"
   ]
  }
 ],
 "metadata": {
  "kernelspec": {
   "display_name": "Python 3 (ipykernel)",
   "language": "python",
   "name": "python3"
  },
  "language_info": {
   "codemirror_mode": {
    "name": "ipython",
    "version": 3
   },
   "file_extension": ".py",
   "mimetype": "text/x-python",
   "name": "python",
   "nbconvert_exporter": "python",
   "pygments_lexer": "ipython3",
   "version": "3.9.13"
  }
 },
 "nbformat": 4,
 "nbformat_minor": 5
}
