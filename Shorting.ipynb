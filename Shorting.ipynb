{
 "cells": [
  {
   "cell_type": "code",
   "execution_count": null,
   "id": "0ff4f509",
   "metadata": {},
   "outputs": [],
   "source": [
    "# a simple algorithm to short the stock for a certain period of time\n",
    "\n",
    "# region imports\n",
    "from AlgorithmImports import *\n",
    "# endregion\n",
    "\n",
    "class Shorting(QCAlgorithm):\n",
    "\n",
    "    def Initialize(self):\n",
    "        self.SetStartDate(2008, 1, 1)\n",
    "        self.SetCash(100000)\n",
    "        self.citi = self.AddEquity(\"C\", Resolution.Daily)\n",
    "        self.invest = True\n",
    "\n",
    "    def OnData(self, data: Slice):\n",
    "        if not self.Portfolio.Invested and self.invest:\n",
    "            # short == sell without owning/purchasing first\n",
    "            self.SetHoldings(self.citi.Symbol, -1)\n",
    "\n",
    "        if self.Time.month == 12:\n",
    "            self.Liquidate(self.citi.Symbol)\n",
    "            self.invest = False\n"
   ]
  }
 ],
 "metadata": {
  "kernelspec": {
   "display_name": "Python 3 (ipykernel)",
   "language": "python",
   "name": "python3"
  },
  "language_info": {
   "codemirror_mode": {
    "name": "ipython",
    "version": 3
   },
   "file_extension": ".py",
   "mimetype": "text/x-python",
   "name": "python",
   "nbconvert_exporter": "python",
   "pygments_lexer": "ipython3",
   "version": "3.9.13"
  }
 },
 "nbformat": 4,
 "nbformat_minor": 5
}
