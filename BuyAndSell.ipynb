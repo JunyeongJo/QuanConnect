{
 "cells": [
  {
   "cell_type": "code",
   "execution_count": null,
   "id": "5744a019",
   "metadata": {},
   "outputs": [],
   "source": [
    "# region imports\n",
    "from AlgorithmImports import *\n",
    "# endregion\n",
    "\n",
    "class buyandsell(QCAlgorithm):\n",
    "\n",
    "    def Initialize(self):\n",
    "        self.SetStartDate(2015, 1, 1)\n",
    "        self.SetEndDate(2020, 1, 1)\n",
    "        self.SetCash(100000)\n",
    "\n",
    "        self.apple = self.AddEquity(\"AAPL\", Resolution.Daily)\n",
    "\n",
    "        self.invest_toggle = True\n",
    "        self.sell_toggle = True\n",
    "\n",
    "\n",
    "\n",
    "\n",
    "    def OnData(self, data: Slice):\n",
    "      \n",
    "        if not data[self.apple.Symbol]:\n",
    "            return \n",
    "\n",
    "        if not self.Portfolio.Invested and self.invest_toggle:\n",
    "            # Buy as many shares as possible\n",
    "            shares_to_buy = int(self.Portfolio.Cash / data[self.apple.Symbol].Open)\n",
    "            self.MarketOrder(self.apple.Symbol, shares_to_buy)\n",
    "            self.invest_toggle = False\n",
    "            return\n",
    "\n",
    "        # Compute proft in percent\n",
    "        profit = self.Portfolio[self.apple.Symbol].UnrealizedProfitPercent\n",
    "\n",
    "        # If profit is greater than 20% we sell 50% of our stocks\n",
    "        if profit >= 0.20 and self.sell_toggle:\n",
    "            # Get quantity of apple shares in portfolio\n",
    "            held_shares = self.Portfolio[self.apple.Symbol].Quantity\n",
    "\n",
    "            self.MarketOrder(self.apple.Symbol, -(held_shares//2))\n",
    "            self.invest_toggle = False\n",
    "\n"
   ]
  }
 ],
 "metadata": {
  "kernelspec": {
   "display_name": "Python 3 (ipykernel)",
   "language": "python",
   "name": "python3"
  },
  "language_info": {
   "codemirror_mode": {
    "name": "ipython",
    "version": 3
   },
   "file_extension": ".py",
   "mimetype": "text/x-python",
   "name": "python",
   "nbconvert_exporter": "python",
   "pygments_lexer": "ipython3",
   "version": "3.9.13"
  }
 },
 "nbformat": 4,
 "nbformat_minor": 5
}
